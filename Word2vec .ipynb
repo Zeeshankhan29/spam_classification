{
 "cells": [
  {
   "cell_type": "markdown",
   "id": "ae4e59cb",
   "metadata": {},
   "source": [
    "# Word2Vec implementation"
   ]
  },
  {
   "cell_type": "code",
   "execution_count": null,
   "id": "f5a60d48",
   "metadata": {},
   "outputs": [],
   "source": [
    "!pip install gensim\n"
   ]
  },
  {
   "cell_type": "code",
   "execution_count": null,
   "id": "722f6efe",
   "metadata": {},
   "outputs": [],
   "source": [
    "#pretrained model goggle news from Google\n",
    "import gensim.downloader as api\n",
    "wv = api.load('word2vec-google-news-300')\n"
   ]
  },
  {
   "cell_type": "code",
   "execution_count": null,
   "id": "52346140",
   "metadata": {},
   "outputs": [],
   "source": [
    "#Training the model from scratch\n",
    "from nltk.stem import WordNetLemmatizer\n",
    "lem = WordNetLemmatizer()"
   ]
  },
  {
   "cell_type": "code",
   "execution_count": null,
   "id": "4a6aaeea",
   "metadata": {},
   "outputs": [],
   "source": [
    "import re\n",
    "corpus=[]\n",
    "for i in range(0,len(messages)):\n",
    "    review = re.sub('[^a-zA-Z0-9]',' ',messages['messages'][i])\n",
    "    review = review.lower()\n",
    "    review = review.split()\n",
    "    \n",
    "    review = [lem.lemmatize(word) for word in review if word not in stopwords.words('english')]\n",
    "    review = \" \".join(review)\n",
    "    corpus.append(review)"
   ]
  },
  {
   "cell_type": "code",
   "execution_count": null,
   "id": "32008b59",
   "metadata": {},
   "outputs": [],
   "source": [
    "corpus"
   ]
  },
  {
   "cell_type": "code",
   "execution_count": null,
   "id": "437510c5",
   "metadata": {},
   "outputs": [],
   "source": [
    "corpus[0]"
   ]
  },
  {
   "cell_type": "code",
   "execution_count": null,
   "id": "6f283e51",
   "metadata": {},
   "outputs": [],
   "source": [
    "words=[]\n",
    "from nltk import sent_tokenize\n",
    "from gensim.utils import simple_preprocess\n",
    "for sent in corpus:\n",
    "    sent_token = sent_tokenize(sent)\n",
    "    for sent in sent_token:\n",
    "        words.append(simple_preprocess(sent))"
   ]
  },
  {
   "cell_type": "code",
   "execution_count": null,
   "id": "9027f359",
   "metadata": {},
   "outputs": [],
   "source": [
    "words=[]\n",
    "from nltk import sent_tokenize\n",
    "from gensim.utils import simple_preprocess\n",
    "for sent in corpus:\n",
    "    sent_token = sent_tokenize(sent)\n",
    "    for sent in sent_token:\n",
    "        sent=sent.lower()\n",
    "        words.append(sent.split())"
   ]
  },
  {
   "cell_type": "code",
   "execution_count": null,
   "id": "1b5a204a",
   "metadata": {},
   "outputs": [],
   "source": [
    "words"
   ]
  },
  {
   "cell_type": "code",
   "execution_count": null,
   "id": "039e4382",
   "metadata": {},
   "outputs": [],
   "source": [
    "#import model\n",
    "import gensim\n",
    "model = gensim.models.Word2Vec(words,min_count=2,window=5)"
   ]
  },
  {
   "cell_type": "code",
   "execution_count": null,
   "id": "4be6f198",
   "metadata": {},
   "outputs": [],
   "source": [
    "#vocubalary\n",
    "model.wv.index_to_key"
   ]
  },
  {
   "cell_type": "code",
   "execution_count": null,
   "id": "56e4e7e4",
   "metadata": {},
   "outputs": [],
   "source": [
    "model.corpus_count"
   ]
  },
  {
   "cell_type": "code",
   "execution_count": null,
   "id": "22ec90a6",
   "metadata": {},
   "outputs": [],
   "source": [
    "model.epochs"
   ]
  },
  {
   "cell_type": "code",
   "execution_count": null,
   "id": "bd09d50f",
   "metadata": {},
   "outputs": [],
   "source": [
    "#similar word to dont\n",
    "model.wv.similar_by_word('dont')"
   ]
  },
  {
   "cell_type": "code",
   "execution_count": null,
   "id": "e9524944",
   "metadata": {},
   "outputs": [],
   "source": [
    "model.wv['well']"
   ]
  },
  {
   "cell_type": "code",
   "execution_count": null,
   "id": "042efa98",
   "metadata": {},
   "outputs": [],
   "source": [
    "def avg_word2vec(doc):\n",
    "    # remove out-of-vocabulary words\n",
    "    #sent = [word for word in doc if word in model.wv.index_to_key]\n",
    "    #print(sent)\n",
    "    \n",
    "    return np.mean([model.wv[word] for word in doc if word in model.wv.index_to_key],axis=0)\n",
    "                #or [np.zeros(len(model.wv.index_to_key))], axis=0)"
   ]
  },
  {
   "cell_type": "code",
   "execution_count": null,
   "id": "ebe61ceb",
   "metadata": {},
   "outputs": [],
   "source": [
    "\n",
    "!pip install tqdm"
   ]
  },
  {
   "cell_type": "code",
   "execution_count": null,
   "id": "7b329fd8",
   "metadata": {},
   "outputs": [],
   "source": [
    "from tqdm import tqdm"
   ]
  },
  {
   "cell_type": "code",
   "execution_count": null,
   "id": "a4c94bf5",
   "metadata": {},
   "outputs": [],
   "source": [
    "words[0]"
   ]
  },
  {
   "cell_type": "code",
   "execution_count": null,
   "id": "5330a627",
   "metadata": {},
   "outputs": [],
   "source": [
    "type(model.wv.index_to_key)"
   ]
  },
  {
   "cell_type": "code",
   "execution_count": null,
   "id": "6f57102f",
   "metadata": {},
   "outputs": [],
   "source": [
    "import numpy as np\n",
    "#apply for the entire sentences\n",
    "X=[]\n",
    "for i in tqdm(range(len(words))):\n",
    "    print(\"Hello\",i)\n",
    "    X.append(avg_word2vec(words[i]))"
   ]
  },
  {
   "cell_type": "code",
   "execution_count": null,
   "id": "2b9e56a9",
   "metadata": {},
   "outputs": [],
   "source": [
    "type(X)"
   ]
  },
  {
   "cell_type": "code",
   "execution_count": null,
   "id": "311784b0",
   "metadata": {},
   "outputs": [],
   "source": [
    "X_new=np.array(X) "
   ]
  },
  {
   "cell_type": "code",
   "execution_count": null,
   "id": "4df96614",
   "metadata": {},
   "outputs": [],
   "source": [
    "X_new.shape"
   ]
  },
  {
   "cell_type": "code",
   "execution_count": null,
   "id": "38250a93",
   "metadata": {},
   "outputs": [],
   "source": [
    "len(words)"
   ]
  },
  {
   "cell_type": "code",
   "execution_count": null,
   "id": "c83a44a2",
   "metadata": {},
   "outputs": [],
   "source": [
    "words[0][0]"
   ]
  },
  {
   "cell_type": "code",
   "execution_count": null,
   "id": "ce63c67c",
   "metadata": {},
   "outputs": [],
   "source": [
    "X_new[0]"
   ]
  },
  {
   "cell_type": "code",
   "execution_count": null,
   "id": "b7e25927",
   "metadata": {},
   "outputs": [],
   "source": [
    "!pip install gensim"
   ]
  },
  {
   "cell_type": "code",
   "execution_count": null,
   "id": "d5fba248",
   "metadata": {},
   "outputs": [],
   "source": [
    "import gensim"
   ]
  },
  {
   "cell_type": "code",
   "execution_count": null,
   "id": "6a52587c",
   "metadata": {},
   "outputs": [],
   "source": [
    "from gensim.models import Word2Vec, KeyedVectors"
   ]
  },
  {
   "cell_type": "code",
   "execution_count": null,
   "id": "d0eba2ed",
   "metadata": {},
   "outputs": [],
   "source": [
    "import gensim.downloader as api\n",
    "wv = api.load('word2vec-google-news-300')\n",
    "vec_king = wv['king']"
   ]
  },
  {
   "cell_type": "code",
   "execution_count": null,
   "id": "9b10f775",
   "metadata": {},
   "outputs": [],
   "source": [
    "vec_king"
   ]
  },
  {
   "cell_type": "code",
   "execution_count": null,
   "id": "f043986c",
   "metadata": {},
   "outputs": [],
   "source": [
    "wv.similarity('man','king')"
   ]
  },
  {
   "cell_type": "code",
   "execution_count": null,
   "id": "d73df05b",
   "metadata": {},
   "outputs": [],
   "source": [
    "wv.most_similar('woman')"
   ]
  },
  {
   "cell_type": "code",
   "execution_count": null,
   "id": "ba446bab",
   "metadata": {},
   "outputs": [],
   "source": []
  },
  {
   "cell_type": "code",
   "execution_count": null,
   "id": "c1ad8c84",
   "metadata": {},
   "outputs": [],
   "source": []
  },
  {
   "cell_type": "code",
   "execution_count": null,
   "id": "b4ece4e8",
   "metadata": {},
   "outputs": [],
   "source": []
  }
 ],
 "metadata": {
  "kernelspec": {
   "display_name": "cv",
   "language": "python",
   "name": "python3"
  },
  "language_info": {
   "codemirror_mode": {
    "name": "ipython",
    "version": 3
   },
   "file_extension": ".py",
   "mimetype": "text/x-python",
   "name": "python",
   "nbconvert_exporter": "python",
   "pygments_lexer": "ipython3",
   "version": "3.10.8 | packaged by conda-forge | (main, Nov 24 2022, 14:07:00) [MSC v.1916 64 bit (AMD64)]"
  },
  "vscode": {
   "interpreter": {
    "hash": "c86eac5f5a20b31166970c72140cc19b8eec0118ed78c99f77a560d8231df3c6"
   }
  }
 },
 "nbformat": 4,
 "nbformat_minor": 5
}
